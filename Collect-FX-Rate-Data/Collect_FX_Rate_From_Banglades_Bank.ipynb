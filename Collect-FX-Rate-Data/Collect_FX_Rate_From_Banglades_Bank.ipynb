{
 "cells": [
  {
   "cell_type": "markdown",
   "id": "a7d06892-e48d-438c-af2f-84dc1417cbac",
   "metadata": {},
   "source": [
    "### Import Libraries"
   ]
  },
  {
   "cell_type": "code",
   "execution_count": 1,
   "id": "8eba57d1-304a-45df-9c98-ae7f6fb5950a",
   "metadata": {},
   "outputs": [],
   "source": [
    "import requests as req\n",
    "from bs4 import BeautifulSoup\n",
    "import pandas as pd"
   ]
  },
  {
   "cell_type": "code",
   "execution_count": 2,
   "id": "127d1915-b739-4d29-a2ee-e7a3408e1379",
   "metadata": {},
   "outputs": [],
   "source": [
    "url = \"https://www.bb.org.bd/en/index.php/econdata/exchangerate\""
   ]
  },
  {
   "cell_type": "code",
   "execution_count": 3,
   "id": "41727704-c31b-4b7b-877a-1533e7f5c8a6",
   "metadata": {},
   "outputs": [],
   "source": [
    "res = req.get(url)"
   ]
  },
  {
   "cell_type": "code",
   "execution_count": 4,
   "id": "ede796a1-07fb-46e9-94ca-e5eb866f71d3",
   "metadata": {},
   "outputs": [
    {
     "data": {
      "text/plain": [
       "200"
      ]
     },
     "execution_count": 4,
     "metadata": {},
     "output_type": "execute_result"
    }
   ],
   "source": [
    "res.status_code"
   ]
  },
  {
   "cell_type": "markdown",
   "id": "2431e8aa-7c89-4943-9227-ecf5dba2b0fb",
   "metadata": {},
   "source": [
    "### Parse Response Content"
   ]
  },
  {
   "cell_type": "code",
   "execution_count": 5,
   "id": "5bb3dbbb-7052-4617-8b43-31a95ad64595",
   "metadata": {},
   "outputs": [],
   "source": [
    "soup = BeautifulSoup(res.content, \"html.parser\")"
   ]
  },
  {
   "cell_type": "code",
   "execution_count": 6,
   "id": "c07bad7b-38b4-4a9a-b92e-9a4608aed5ae",
   "metadata": {},
   "outputs": [],
   "source": [
    "tables = soup.find_all('table')"
   ]
  },
  {
   "cell_type": "code",
   "execution_count": 7,
   "id": "c77b45c6-61d9-4c32-9910-ef673091caa5",
   "metadata": {},
   "outputs": [
    {
     "data": {
      "text/plain": [
       "[<tr><td>EUR</td><td>139.4363</td><td>139.6768</td></tr>,\n",
       " <tr><td>GBP</td><td>166.0867</td><td>166.3808</td></tr>,\n",
       " <tr><td>AUD</td><td>79.6814</td><td>79.8171</td></tr>,\n",
       " <tr><td>JPY</td><td>0.8605</td><td>0.8621</td></tr>,\n",
       " <tr><td>CAD</td><td>89.2883</td><td>89.4591</td></tr>,\n",
       " <tr><td>SEK</td><td>12.8495</td><td>12.9174</td></tr>,\n",
       " <tr><td>SGD</td><td>95.4938</td><td>95.7311</td></tr>,\n",
       " <tr><td>CNH</td><td>17.1041</td><td>17.1378</td></tr>,\n",
       " <tr><td>INR</td><td>1.4397</td><td>1.4428</td></tr>]"
      ]
     },
     "execution_count": 7,
     "metadata": {},
     "output_type": "execute_result"
    }
   ],
   "source": [
    "rows = tables[1].find('tbody').find_all('tr')\n",
    "rows"
   ]
  },
  {
   "cell_type": "code",
   "execution_count": 8,
   "id": "4b8200f1-7818-4dd2-b73b-6bae061f1e57",
   "metadata": {},
   "outputs": [
    {
     "data": {
      "text/plain": [
       "[{'Currency': 'EUR', 'Buying': '139.4363', 'Selling': '139.6768'},\n",
       " {'Currency': 'GBP', 'Buying': '166.0867', 'Selling': '166.3808'},\n",
       " {'Currency': 'AUD', 'Buying': '79.6814', 'Selling': '79.8171'},\n",
       " {'Currency': 'JPY', 'Buying': '0.8605', 'Selling': '0.8621'},\n",
       " {'Currency': 'CAD', 'Buying': '89.2883', 'Selling': '89.4591'},\n",
       " {'Currency': 'SEK', 'Buying': '12.8495', 'Selling': '12.9174'},\n",
       " {'Currency': 'SGD', 'Buying': '95.4938', 'Selling': '95.7311'},\n",
       " {'Currency': 'CNH', 'Buying': '17.1041', 'Selling': '17.1378'},\n",
       " {'Currency': 'INR', 'Buying': '1.4397', 'Selling': '1.4428'}]"
      ]
     },
     "execution_count": 8,
     "metadata": {},
     "output_type": "execute_result"
    }
   ],
   "source": [
    "data = []\n",
    "for row in rows:\n",
    "    cols = row.find_all('td')\n",
    "    data.append({\"Currency\":cols[0].string,\"Buying\":cols[1].string,\"Selling\":cols[2].string})\n",
    "\n",
    "data"
   ]
  },
  {
   "cell_type": "markdown",
   "id": "f91e5877-17d1-4a5d-b706-dfafeee05a5e",
   "metadata": {},
   "source": [
    "### Convert Data into DataFrame"
   ]
  },
  {
   "cell_type": "code",
   "execution_count": 9,
   "id": "929abd20-c8fd-400c-8d31-7489063dc9fb",
   "metadata": {},
   "outputs": [
    {
     "data": {
      "text/html": [
       "<div>\n",
       "<style scoped>\n",
       "    .dataframe tbody tr th:only-of-type {\n",
       "        vertical-align: middle;\n",
       "    }\n",
       "\n",
       "    .dataframe tbody tr th {\n",
       "        vertical-align: top;\n",
       "    }\n",
       "\n",
       "    .dataframe thead th {\n",
       "        text-align: right;\n",
       "    }\n",
       "</style>\n",
       "<table border=\"1\" class=\"dataframe\">\n",
       "  <thead>\n",
       "    <tr style=\"text-align: right;\">\n",
       "      <th></th>\n",
       "      <th>Currency</th>\n",
       "      <th>Buying</th>\n",
       "      <th>Selling</th>\n",
       "    </tr>\n",
       "  </thead>\n",
       "  <tbody>\n",
       "    <tr>\n",
       "      <th>0</th>\n",
       "      <td>EUR</td>\n",
       "      <td>139.4363</td>\n",
       "      <td>139.6768</td>\n",
       "    </tr>\n",
       "    <tr>\n",
       "      <th>1</th>\n",
       "      <td>GBP</td>\n",
       "      <td>166.0867</td>\n",
       "      <td>166.3808</td>\n",
       "    </tr>\n",
       "    <tr>\n",
       "      <th>2</th>\n",
       "      <td>AUD</td>\n",
       "      <td>79.6814</td>\n",
       "      <td>79.8171</td>\n",
       "    </tr>\n",
       "    <tr>\n",
       "      <th>3</th>\n",
       "      <td>JPY</td>\n",
       "      <td>0.8605</td>\n",
       "      <td>0.8621</td>\n",
       "    </tr>\n",
       "    <tr>\n",
       "      <th>4</th>\n",
       "      <td>CAD</td>\n",
       "      <td>89.2883</td>\n",
       "      <td>89.4591</td>\n",
       "    </tr>\n",
       "  </tbody>\n",
       "</table>\n",
       "</div>"
      ],
      "text/plain": [
       "  Currency    Buying   Selling\n",
       "0      EUR  139.4363  139.6768\n",
       "1      GBP  166.0867  166.3808\n",
       "2      AUD   79.6814   79.8171\n",
       "3      JPY    0.8605    0.8621\n",
       "4      CAD   89.2883   89.4591"
      ]
     },
     "execution_count": 9,
     "metadata": {},
     "output_type": "execute_result"
    }
   ],
   "source": [
    "df = pd.DataFrame(data)\n",
    "df.head()"
   ]
  },
  {
   "cell_type": "markdown",
   "id": "b7ff629c-f855-4397-b761-53ee0e1107fa",
   "metadata": {},
   "source": [
    "### Export To CSV"
   ]
  },
  {
   "cell_type": "code",
   "execution_count": 10,
   "id": "d025c7a5-caf2-4257-9090-b0b239febfd3",
   "metadata": {},
   "outputs": [],
   "source": [
    "df.to_csv(\"BB_FX_Rate.csv\")"
   ]
  }
 ],
 "metadata": {
  "kernelspec": {
   "display_name": "Python 3 (ipykernel)",
   "language": "python",
   "name": "python3"
  },
  "language_info": {
   "codemirror_mode": {
    "name": "ipython",
    "version": 3
   },
   "file_extension": ".py",
   "mimetype": "text/x-python",
   "name": "python",
   "nbconvert_exporter": "python",
   "pygments_lexer": "ipython3",
   "version": "3.13.3"
  }
 },
 "nbformat": 4,
 "nbformat_minor": 5
}
